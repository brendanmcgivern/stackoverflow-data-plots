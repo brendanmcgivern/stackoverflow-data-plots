{
 "cells": [
  {
   "cell_type": "code",
   "execution_count": 136,
   "metadata": {
    "collapsed": true
   },
   "outputs": [],
   "source": [
    "import pandas as pd\n",
    "import numpy as np\n",
    "import matplotlib.pyplot as plt\n",
    "%matplotlib inline"
   ]
  },
  {
   "cell_type": "code",
   "execution_count": 137,
   "metadata": {},
   "outputs": [
    {
     "name": "stdout",
     "output_type": "stream",
     "text": [
      "Shape: (98855, 129)\n"
     ]
    },
    {
     "name": "stderr",
     "output_type": "stream",
     "text": [
      "/Users/rook/anaconda3/lib/python3.6/site-packages/IPython/core/interactiveshell.py:2698: DtypeWarning: Columns (8,12,13,14,15,16,50,51,52,53,55,56,57,58,59,60,61,62,63,64,65,66,67,68,69,70,71,72,73,74,75,76,77,78,79,80,81,82,83,84,85,93,94,95,96,97,98,99,100,101,102,103,104,105,106,107,108,109,110,111,112,113,114,115,116,117,118,119,120,121,122,123,124,125,126,127,128) have mixed types. Specify dtype option on import or set low_memory=False.\n",
      "  interactivity=interactivity, compiler=compiler, result=result)\n"
     ]
    },
    {
     "data": {
      "text/html": [
       "<div>\n",
       "<style>\n",
       "    .dataframe thead tr:only-child th {\n",
       "        text-align: right;\n",
       "    }\n",
       "\n",
       "    .dataframe thead th {\n",
       "        text-align: left;\n",
       "    }\n",
       "\n",
       "    .dataframe tbody tr th {\n",
       "        vertical-align: top;\n",
       "    }\n",
       "</style>\n",
       "<table border=\"1\" class=\"dataframe\">\n",
       "  <thead>\n",
       "    <tr style=\"text-align: right;\">\n",
       "      <th></th>\n",
       "      <th>Respondent</th>\n",
       "      <th>Hobby</th>\n",
       "      <th>OpenSource</th>\n",
       "      <th>Country</th>\n",
       "      <th>Student</th>\n",
       "      <th>Employment</th>\n",
       "      <th>FormalEducation</th>\n",
       "      <th>UndergradMajor</th>\n",
       "      <th>CompanySize</th>\n",
       "      <th>DevType</th>\n",
       "      <th>...</th>\n",
       "      <th>Exercise</th>\n",
       "      <th>Gender</th>\n",
       "      <th>SexualOrientation</th>\n",
       "      <th>EducationParents</th>\n",
       "      <th>RaceEthnicity</th>\n",
       "      <th>Age</th>\n",
       "      <th>Dependents</th>\n",
       "      <th>MilitaryUS</th>\n",
       "      <th>SurveyTooLong</th>\n",
       "      <th>SurveyEasy</th>\n",
       "    </tr>\n",
       "  </thead>\n",
       "  <tbody>\n",
       "    <tr>\n",
       "      <th>0</th>\n",
       "      <td>1</td>\n",
       "      <td>Yes</td>\n",
       "      <td>No</td>\n",
       "      <td>Kenya</td>\n",
       "      <td>No</td>\n",
       "      <td>Employed part-time</td>\n",
       "      <td>Bachelor’s degree (BA, BS, B.Eng., etc.)</td>\n",
       "      <td>Mathematics or statistics</td>\n",
       "      <td>20 to 99 employees</td>\n",
       "      <td>Full-stack developer</td>\n",
       "      <td>...</td>\n",
       "      <td>3 - 4 times per week</td>\n",
       "      <td>Male</td>\n",
       "      <td>Straight or heterosexual</td>\n",
       "      <td>Bachelor’s degree (BA, BS, B.Eng., etc.)</td>\n",
       "      <td>Black or of African descent</td>\n",
       "      <td>25 - 34 years old</td>\n",
       "      <td>Yes</td>\n",
       "      <td>NaN</td>\n",
       "      <td>The survey was an appropriate length</td>\n",
       "      <td>Very easy</td>\n",
       "    </tr>\n",
       "    <tr>\n",
       "      <th>1</th>\n",
       "      <td>3</td>\n",
       "      <td>Yes</td>\n",
       "      <td>Yes</td>\n",
       "      <td>United Kingdom</td>\n",
       "      <td>No</td>\n",
       "      <td>Employed full-time</td>\n",
       "      <td>Bachelor’s degree (BA, BS, B.Eng., etc.)</td>\n",
       "      <td>A natural science (ex. biology, chemistry, phy...</td>\n",
       "      <td>10,000 or more employees</td>\n",
       "      <td>Database administrator;DevOps specialist;Full-...</td>\n",
       "      <td>...</td>\n",
       "      <td>Daily or almost every day</td>\n",
       "      <td>Male</td>\n",
       "      <td>Straight or heterosexual</td>\n",
       "      <td>Bachelor’s degree (BA, BS, B.Eng., etc.)</td>\n",
       "      <td>White or of European descent</td>\n",
       "      <td>35 - 44 years old</td>\n",
       "      <td>Yes</td>\n",
       "      <td>NaN</td>\n",
       "      <td>The survey was an appropriate length</td>\n",
       "      <td>Somewhat easy</td>\n",
       "    </tr>\n",
       "    <tr>\n",
       "      <th>2</th>\n",
       "      <td>4</td>\n",
       "      <td>Yes</td>\n",
       "      <td>Yes</td>\n",
       "      <td>United States</td>\n",
       "      <td>No</td>\n",
       "      <td>Employed full-time</td>\n",
       "      <td>Associate degree</td>\n",
       "      <td>Computer science, computer engineering, or sof...</td>\n",
       "      <td>20 to 99 employees</td>\n",
       "      <td>Engineering manager;Full-stack developer</td>\n",
       "      <td>...</td>\n",
       "      <td>NaN</td>\n",
       "      <td>NaN</td>\n",
       "      <td>NaN</td>\n",
       "      <td>NaN</td>\n",
       "      <td>NaN</td>\n",
       "      <td>NaN</td>\n",
       "      <td>NaN</td>\n",
       "      <td>NaN</td>\n",
       "      <td>NaN</td>\n",
       "      <td>NaN</td>\n",
       "    </tr>\n",
       "    <tr>\n",
       "      <th>3</th>\n",
       "      <td>5</td>\n",
       "      <td>No</td>\n",
       "      <td>No</td>\n",
       "      <td>United States</td>\n",
       "      <td>No</td>\n",
       "      <td>Employed full-time</td>\n",
       "      <td>Bachelor’s degree (BA, BS, B.Eng., etc.)</td>\n",
       "      <td>Computer science, computer engineering, or sof...</td>\n",
       "      <td>100 to 499 employees</td>\n",
       "      <td>Full-stack developer</td>\n",
       "      <td>...</td>\n",
       "      <td>I don't typically exercise</td>\n",
       "      <td>Male</td>\n",
       "      <td>Straight or heterosexual</td>\n",
       "      <td>Some college/university study without earning ...</td>\n",
       "      <td>White or of European descent</td>\n",
       "      <td>35 - 44 years old</td>\n",
       "      <td>No</td>\n",
       "      <td>No</td>\n",
       "      <td>The survey was an appropriate length</td>\n",
       "      <td>Somewhat easy</td>\n",
       "    </tr>\n",
       "    <tr>\n",
       "      <th>4</th>\n",
       "      <td>7</td>\n",
       "      <td>Yes</td>\n",
       "      <td>No</td>\n",
       "      <td>South Africa</td>\n",
       "      <td>Yes, part-time</td>\n",
       "      <td>Employed full-time</td>\n",
       "      <td>Some college/university study without earning ...</td>\n",
       "      <td>Computer science, computer engineering, or sof...</td>\n",
       "      <td>10,000 or more employees</td>\n",
       "      <td>Data or business analyst;Desktop or enterprise...</td>\n",
       "      <td>...</td>\n",
       "      <td>3 - 4 times per week</td>\n",
       "      <td>Male</td>\n",
       "      <td>Straight or heterosexual</td>\n",
       "      <td>Some college/university study without earning ...</td>\n",
       "      <td>White or of European descent</td>\n",
       "      <td>18 - 24 years old</td>\n",
       "      <td>Yes</td>\n",
       "      <td>NaN</td>\n",
       "      <td>The survey was an appropriate length</td>\n",
       "      <td>Somewhat easy</td>\n",
       "    </tr>\n",
       "  </tbody>\n",
       "</table>\n",
       "<p>5 rows × 129 columns</p>\n",
       "</div>"
      ],
      "text/plain": [
       "   Respondent Hobby OpenSource         Country         Student  \\\n",
       "0           1   Yes         No           Kenya              No   \n",
       "1           3   Yes        Yes  United Kingdom              No   \n",
       "2           4   Yes        Yes   United States              No   \n",
       "3           5    No         No   United States              No   \n",
       "4           7   Yes         No    South Africa  Yes, part-time   \n",
       "\n",
       "           Employment                                    FormalEducation  \\\n",
       "0  Employed part-time           Bachelor’s degree (BA, BS, B.Eng., etc.)   \n",
       "1  Employed full-time           Bachelor’s degree (BA, BS, B.Eng., etc.)   \n",
       "2  Employed full-time                                   Associate degree   \n",
       "3  Employed full-time           Bachelor’s degree (BA, BS, B.Eng., etc.)   \n",
       "4  Employed full-time  Some college/university study without earning ...   \n",
       "\n",
       "                                      UndergradMajor  \\\n",
       "0                          Mathematics or statistics   \n",
       "1  A natural science (ex. biology, chemistry, phy...   \n",
       "2  Computer science, computer engineering, or sof...   \n",
       "3  Computer science, computer engineering, or sof...   \n",
       "4  Computer science, computer engineering, or sof...   \n",
       "\n",
       "                CompanySize  \\\n",
       "0        20 to 99 employees   \n",
       "1  10,000 or more employees   \n",
       "2        20 to 99 employees   \n",
       "3      100 to 499 employees   \n",
       "4  10,000 or more employees   \n",
       "\n",
       "                                             DevType      ...        \\\n",
       "0                               Full-stack developer      ...         \n",
       "1  Database administrator;DevOps specialist;Full-...      ...         \n",
       "2           Engineering manager;Full-stack developer      ...         \n",
       "3                               Full-stack developer      ...         \n",
       "4  Data or business analyst;Desktop or enterprise...      ...         \n",
       "\n",
       "                     Exercise Gender         SexualOrientation  \\\n",
       "0        3 - 4 times per week   Male  Straight or heterosexual   \n",
       "1   Daily or almost every day   Male  Straight or heterosexual   \n",
       "2                         NaN    NaN                       NaN   \n",
       "3  I don't typically exercise   Male  Straight or heterosexual   \n",
       "4        3 - 4 times per week   Male  Straight or heterosexual   \n",
       "\n",
       "                                    EducationParents  \\\n",
       "0           Bachelor’s degree (BA, BS, B.Eng., etc.)   \n",
       "1           Bachelor’s degree (BA, BS, B.Eng., etc.)   \n",
       "2                                                NaN   \n",
       "3  Some college/university study without earning ...   \n",
       "4  Some college/university study without earning ...   \n",
       "\n",
       "                  RaceEthnicity                Age Dependents  MilitaryUS  \\\n",
       "0   Black or of African descent  25 - 34 years old        Yes         NaN   \n",
       "1  White or of European descent  35 - 44 years old        Yes         NaN   \n",
       "2                           NaN                NaN        NaN         NaN   \n",
       "3  White or of European descent  35 - 44 years old         No          No   \n",
       "4  White or of European descent  18 - 24 years old        Yes         NaN   \n",
       "\n",
       "                          SurveyTooLong     SurveyEasy  \n",
       "0  The survey was an appropriate length      Very easy  \n",
       "1  The survey was an appropriate length  Somewhat easy  \n",
       "2                                   NaN            NaN  \n",
       "3  The survey was an appropriate length  Somewhat easy  \n",
       "4  The survey was an appropriate length  Somewhat easy  \n",
       "\n",
       "[5 rows x 129 columns]"
      ]
     },
     "execution_count": 137,
     "metadata": {},
     "output_type": "execute_result"
    }
   ],
   "source": [
    "df = pd.read_csv('./data/stack-overflow-2018-developer-survey/survey_results_public.csv')\n",
    "\n",
    "print(f'Shape: {df.shape}')\n",
    "\n",
    "df.head()"
   ]
  },
  {
   "cell_type": "markdown",
   "metadata": {},
   "source": [
    "## Coding as a hobby\n",
    "---"
   ]
  },
  {
   "cell_type": "code",
   "execution_count": 8,
   "metadata": {},
   "outputs": [
    {
     "data": {
      "image/png": "[encoded data removed]",
      "text/plain": [
       "<matplotlib.figure.Figure at 0x123b56390>"
      ]
     },
     "metadata": {},
     "output_type": "display_data"
    }
   ],
   "source": [
    "# Add both 'yes' and 'no' counts for total sample size\n",
    "sample_size = df['Hobby'].value_counts()[0] + df['Hobby'].value_counts()[1]\n",
    "\n",
    "# Calculate 'yes' and 'no' percentages\n",
    "yes_percentage = df['Hobby'].value_counts()[0] / sample_size\n",
    "no_percentage = df['Hobby'].value_counts()[1] / sample_size\n",
    "\n",
    "hobby_percentages = [yes_percentage, no_percentage]\n",
    "\n",
    "hobby_df = pd.DataFrame(\n",
    "    hobby_percentages,\n",
    "    index=['Yes', 'No'],\n",
    "    columns=['Percentage']\n",
    ")\n",
    "    \n",
    "# Plot results\n",
    "plt.bar(hobby_df.index, hobby_df['Percentage'], width=.35)\n",
    "plt.ylabel('Percentage')\n",
    "plt.xlabel('Answers')\n",
    "plt.title('Coding as a hobby')\n",
    "plt.show()"
   ]
  },
  {
   "cell_type": "markdown",
   "metadata": {},
   "source": [
    "### Explanation:\n",
    "From this plot, we can conclude that around 80% of surveyed individuals code as a hobby, while around 20% do not.  It seems that thechnology is a *passion* fueled profession."
   ]
  },
  {
   "cell_type": "markdown",
   "metadata": {},
   "source": [
    "## Pay vs Experience Correlation\n",
    "---"
   ]
  },
  {
   "cell_type": "code",
   "execution_count": 147,
   "metadata": {},
   "outputs": [
    {
     "name": "stderr",
     "output_type": "stream",
     "text": [
      "/Users/rook/anaconda3/lib/python3.6/site-packages/ipykernel_launcher.py:10: SettingWithCopyWarning: \n",
      "A value is trying to be set on a copy of a slice from a DataFrame.\n",
      "Try using .loc[row_indexer,col_indexer] = value instead\n",
      "\n",
      "See the caveats in the documentation: http://pandas.pydata.org/pandas-docs/stable/indexing.html#indexing-view-versus-copy\n",
      "  # Remove the CWD from sys.path while we load stuff.\n"
     ]
    },
    {
     "data": {
      "text/plain": [
       "YearsCodingProf\n",
       "0-2 years          88,030,783,642,041,267,170,789,694,121,972,117,...\n",
       "12-14 years                                              680,276.5568\n",
       "15-17 years                                              561,460.5681\n",
       "18-20 years                                              356,539.8853\n",
       "21-23 years                                              577,809.2667\n",
       "24-26 years                                              158,496.9144\n",
       "27-29 years            2,923,976,608,187,134,636,784,569,286,656.0000\n",
       "3-5 years                                      7,148,986,769,277.8125\n",
       "30 or more years   1,256,281,407,035,175,783,088,698,157,020,576,9...\n",
       "6-8 years             12,751,849,018,107,624,998,988,809,240,576.0000\n",
       "9-11 years                                               506,820.3612\n",
       "Name: Salary, dtype: float64"
      ]
     },
     "execution_count": 147,
     "metadata": {},
     "output_type": "execute_result"
    }
   ],
   "source": [
    "sals = df[df['Salary'].notnull()]\n",
    "sals['Salary']\n",
    "\n",
    "sals['Salary'] = sals['Salary'].str.replace(',','')\n",
    "stripped_sals = sals['Salary'].astype(float)\n",
    "stripped_sals\n",
    "\n",
    "df['Salary'] = stripped_sals\n",
    "\n",
    "df.groupby('YearsCodingProf')['Salary'].mean()"
   ]
  },
  {
   "cell_type": "code",
   "execution_count": 34,
   "metadata": {
    "collapsed": true
   },
   "outputs": [],
   "source": [
    "# print(df_test['YearsCodingProf'].value_counts())\n",
    "\n",
    "# df_test"
   ]
  },
  {
   "cell_type": "markdown",
   "metadata": {},
   "source": [
    "## Top 5 residing countries\n",
    "---"
   ]
  },
  {
   "cell_type": "code",
   "execution_count": 9,
   "metadata": {},
   "outputs": [
    {
     "data": {
      "text/plain": [
       "United States     20309\n",
       "India             13721\n",
       "Germany            6459\n",
       "United Kingdom     6221\n",
       "Canada             3393\n",
       "Name: Country, dtype: int64"
      ]
     },
     "execution_count": 9,
     "metadata": {},
     "output_type": "execute_result"
    }
   ],
   "source": [
    "top_3_countries = df['Country'].value_counts()[:5]\n",
    "top_3_countries"
   ]
  },
  {
   "cell_type": "code",
   "execution_count": 10,
   "metadata": {},
   "outputs": [
    {
     "data": {
      "image/png": "[encoded data removed]",
      "text/plain": [
       "<matplotlib.figure.Figure at 0x121a1b6a0>"
      ]
     },
     "metadata": {},
     "output_type": "display_data"
    }
   ],
   "source": [
    "country_slices = top_3_countries\n",
    "country_list = top_3_countries.index\n",
    "colors = ['r', 'g', 'b', 'y', 'c']\n",
    "\n",
    "plt.pie(country_slices, labels=country_list, colors=colors, startangle=90, autopct='%.1f%%')\n",
    "plt.show()"
   ]
  },
  {
   "cell_type": "markdown",
   "metadata": {},
   "source": [
    "It is evident that the US dwarfs every other country in this analysis.  My guess is, that given such a large number of billion dollar enterprises located in the US, they can offer much higher wages and greater opportunities for advancement than most other countries.\n",
    "\n",
    "I was surprised to see that China was only 17th on the list.  Given that they have such a large population and such a strong foundation in the technical sciences, I would have expected China to represent a larger portion of the survey."
   ]
  },
  {
   "cell_type": "markdown",
   "metadata": {},
   "source": [
    "## Number of participants and years of experience"
   ]
  },
  {
   "cell_type": "code",
   "execution_count": 150,
   "metadata": {},
   "outputs": [
    {
     "name": "stdout",
     "output_type": "stream",
     "text": [
      "0-2 years           23421\n",
      "3-5 years           21362\n",
      "6-8 years           11385\n",
      "9-11 years           7573\n",
      "12-14 years          4287\n",
      "15-17 years          3012\n",
      "18-20 years          2830\n",
      "21-23 years          1368\n",
      "30 or more years     1302\n",
      "24-26 years           857\n",
      "27-29 years           506\n",
      "Name: YearsCodingProf, dtype: int64\n"
     ]
    },
    {
     "data": {
      "text/plain": [
       "[]"
      ]
     },
     "execution_count": 150,
     "metadata": {},
     "output_type": "execute_result"
    },
    {
     "data": {
      "image/png": "[encoded data removed]",
      "text/plain": [
       "<matplotlib.figure.Figure at 0x139c3ff60>"
      ]
     },
     "metadata": {},
     "output_type": "display_data"
    }
   ],
   "source": [
    "counts = df['YearsCodingProf'].value_counts()\n",
    "\n",
    "print(counts)\n",
    "\n",
    "# stripped_counts = counts.index.str.replace('years','')\n",
    "\n",
    "years = ['0-2', '3-5', '6-8', '9-11', '12-14 ', '15-17 ', '18-20 ', '21-23 ', '24-26', '27-29', '30 or more']\n",
    "\n",
    "plt.scatter(x=years, y=counts)\n",
    "plt.title('Number of participants and years of experience')\n",
    "plt.ylabel('Number of participants')\n",
    "plt.xlabel('Years of experience')\n",
    "plt.rcParams['figure.figsize'] = (10, 6)\n",
    "plt.plot()"
   ]
  },
  {
   "cell_type": "code",
   "execution_count": 45,
   "metadata": {},
   "outputs": [
    {
     "data": {
      "text/plain": [
       "[]"
      ]
     },
     "execution_count": 45,
     "metadata": {},
     "output_type": "execute_result"
    },
    {
     "data": {
      "image/png": "[encoded data removed]",
      "text/plain": [
       "<matplotlib.figure.Figure at 0x15703dfd0>"
      ]
     },
     "metadata": {},
     "output_type": "display_data"
    }
   ],
   "source": [
    "plt.hist(df[df['YearsCodingProf'].notnull()]['YearsCodingProf'], bins=11)\n",
    "plt.rcParams['figure.figsize'] = (15, 6)\n",
    "plt.plot()"
   ]
  },
  {
   "cell_type": "code",
   "execution_count": null,
   "metadata": {
    "collapsed": true
   },
   "outputs": [],
   "source": []
  }
 ],
 "metadata": {
  "kernelspec": {
   "display_name": "Python 3",
   "language": "python",
   "name": "python3"
  },
  "language_info": {
   "codemirror_mode": {
    "name": "ipython",
    "version": 3
   },
   "file_extension": ".py",
   "mimetype": "text/x-python",
   "name": "python",
   "nbconvert_exporter": "python",
   "pygments_lexer": "ipython3",
   "version": "3.6.3"
  }
 },
 "nbformat": 4,
 "nbformat_minor": 2
}
